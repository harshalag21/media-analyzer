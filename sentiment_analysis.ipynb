{
 "cells": [
  {
   "cell_type": "markdown",
   "metadata": {
    "id": "Kl6fW8Fkf3vN"
   },
   "source": [
    "# Text Classification with ClassifierDL"
   ]
  },
  {
   "cell_type": "markdown",
   "metadata": {
    "id": "RUAgkEOqOnJh"
   },
   "source": [
    "**Relevant blogpost:** https://towardsdatascience.com/text-classification-in-spark-nlp-with-bert-and-universal-sentence-encoders-e644d618ca32"
   ]
  },
  {
   "cell_type": "markdown",
   "metadata": {
    "id": "06DMedvcgjKa"
   },
   "source": [
    "## Colab Setup"
   ]
  },
  {
   "cell_type": "code",
   "execution_count": 1,
   "metadata": {
    "colab": {
     "base_uri": "https://localhost:8080/"
    },
    "id": "eVtGC-AUPfEN",
    "outputId": "29b148f1-1eae-474e-b538-e4556d84858b"
   },
   "outputs": [
    {
     "output_type": "stream",
     "name": "stdout",
     "text": [
      "--2024-07-28 18:05:28--  https://setup.johnsnowlabs.com/colab.sh\n",
      "Resolving setup.johnsnowlabs.com (setup.johnsnowlabs.com)... 3.86.22.73\n",
      "Connecting to setup.johnsnowlabs.com (setup.johnsnowlabs.com)|3.86.22.73|:443... connected.\n",
      "HTTP request sent, awaiting response... 302 Moved Temporarily\n",
      "Location: https://raw.githubusercontent.com/JohnSnowLabs/spark-nlp/master/scripts/colab_setup.sh [following]\n",
      "--2024-07-28 18:05:28--  https://raw.githubusercontent.com/JohnSnowLabs/spark-nlp/master/scripts/colab_setup.sh\n",
      "Resolving raw.githubusercontent.com (raw.githubusercontent.com)... 185.199.111.133, 185.199.108.133, 185.199.109.133, ...\n",
      "Connecting to raw.githubusercontent.com (raw.githubusercontent.com)|185.199.111.133|:443... connected.\n",
      "HTTP request sent, awaiting response... 200 OK\n",
      "Length: 1191 (1.2K) [text/plain]\n",
      "Saving to: ‘STDOUT’\n",
      "\n",
      "Installing PySpark 3.2.3 and Spark NLP 5.3.2\n",
      "-                   100%[===================>]   1.16K  --.-KB/s    in 0s      \n",
      "\n",
      "2024-07-28 18:05:29 (14.5 MB/s) - written to stdout [1191/1191]\n",
      "\n",
      "setup Colab for PySpark 3.2.3 and Spark NLP 5.3.2\n",
      "Upgrading libcudnn8 to 8.1.0 for GPU\n",
      "\u001B[2K     \u001B[90m━━━━━━━━━━━━━━━━━━━━━━━━━━━━━━━━━━━━━━━━\u001B[0m \u001B[32m281.5/281.5 MB\u001B[0m \u001B[31m4.2 MB/s\u001B[0m eta \u001B[36m0:00:00\u001B[0m\n",
      "\u001B[?25h  Preparing metadata (setup.py) ... \u001B[?25l\u001B[?25hdone\n",
      "\u001B[2K     \u001B[90m━━━━━━━━━━━━━━━━━━━━━━━━━━━━━━━━━━━━━━━━\u001B[0m \u001B[32m57.1/57.1 kB\u001B[0m \u001B[31m4.4 MB/s\u001B[0m eta \u001B[36m0:00:00\u001B[0m\n",
      "\u001B[2K   \u001B[90m━━━━━━━━━━━━━━━━━━━━━━━━━━━━━━━━━━━━━━━━\u001B[0m \u001B[32m565.0/565.0 kB\u001B[0m \u001B[31m34.2 MB/s\u001B[0m eta \u001B[36m0:00:00\u001B[0m\n",
      "\u001B[2K   \u001B[90m━━━━━━━━━━━━━━━━━━━━━━━━━━━━━━━━━━━━━━━━\u001B[0m \u001B[32m199.7/199.7 kB\u001B[0m \u001B[31m15.5 MB/s\u001B[0m eta \u001B[36m0:00:00\u001B[0m\n",
      "\u001B[?25h  Building wheel for pyspark (setup.py) ... \u001B[?25l\u001B[?25hdone\n"
     ]
    }
   ],
   "source": [
    "!wget https://setup.johnsnowlabs.com/colab.sh -O - | bash /dev/stdin -p 3.4.1 -s 5.3.2 -g"
   ]
  },
  {
   "cell_type": "code",
   "execution_count": 2,
   "metadata": {
    "colab": {
     "base_uri": "https://localhost:8080/",
     "height": 244
    },
    "id": "KjcBNzFVgoky",
    "outputId": "2f27e1a3-6223-4e70-e238-45cc77513a3c"
   },
   "outputs": [
    {
     "output_type": "stream",
     "name": "stdout",
     "text": [
      "Spark NLP version 5.3.2\n",
      "Apache Spark version: 3.2.3\n"
     ]
    },
    {
     "output_type": "execute_result",
     "data": {
      "text/plain": [
       "<pyspark.sql.session.SparkSession at 0x7abca71c7340>"
      ],
      "text/html": [
       "\n",
       "            <div>\n",
       "                <p><b>SparkSession - in-memory</b></p>\n",
       "                \n",
       "        <div>\n",
       "            <p><b>SparkContext</b></p>\n",
       "\n",
       "            <p><a href=\"http://b2c57f6f1da2:4040\">Spark UI</a></p>\n",
       "\n",
       "            <dl>\n",
       "              <dt>Version</dt>\n",
       "                <dd><code>v3.2.3</code></dd>\n",
       "              <dt>Master</dt>\n",
       "                <dd><code>local[*]</code></dd>\n",
       "              <dt>AppName</dt>\n",
       "                <dd><code>Spark NLP</code></dd>\n",
       "            </dl>\n",
       "        </div>\n",
       "        \n",
       "            </div>\n",
       "        "
      ]
     },
     "metadata": {},
     "execution_count": 2
    }
   ],
   "source": [
    "import sparknlp\n",
    "\n",
    "from sparknlp.base import *\n",
    "from sparknlp.annotator import *\n",
    "from pyspark.ml import Pipeline\n",
    "import pandas as pd\n",
    "import os\n",
    "\n",
    "spark = sparknlp.start(gpu = True)# for GPU training >> sparknlp.start(gpu = True)\n",
    "\n",
    "print(\"Spark NLP version\", sparknlp.version())\n",
    "print(\"Apache Spark version:\", spark.version)\n",
    "\n",
    "spark"
   ]
  },
  {
   "cell_type": "markdown",
   "metadata": {
    "id": "o3qkiSEaWENr"
   },
   "source": [
    "## ClassiferDL with Word Embeddings and Text Preprocessing"
   ]
  },
  {
   "cell_type": "markdown",
   "metadata": {
    "id": "9VTK1AsahOpz"
   },
   "source": [
    "### Load Dataset"
   ]
  },
  {
   "cell_type": "code",
   "execution_count": 4,
   "metadata": {
    "id": "3AGLhXErN7Hk"
   },
   "outputs": [],
   "source": [
    "from pyspark.sql.types import StructType, StructField, StringType, ArrayType\n",
    "from functools import reduce\n",
    "from pyspark.sql.functions import explode, split, desc, col, lower, regexp_replace, udf, trim, to_json, struct"
   ]
  },
  {
   "cell_type": "code",
   "execution_count": 22,
   "metadata": {
    "colab": {
     "base_uri": "https://localhost:8080/"
    },
    "id": "eoTE46WThUz2",
    "outputId": "51c8dcb3-f6f0-4897-d0db-303f2c35a674"
   },
   "outputs": [
    {
     "output_type": "stream",
     "name": "stdout",
     "text": [
      "+---------+--------------------------------------------------+\n",
      "|sentiment|                                              text|\n",
      "+---------+--------------------------------------------------+\n",
      "|  neutral|According to Gran , the company has no plans to...|\n",
      "|  neutral|Technopolis plans to develop in stages an area ...|\n",
      "| negative|The international electronic industry company E...|\n",
      "| positive|With the new production plant the company would...|\n",
      "| positive|According to the company 's updated strategy fo...|\n",
      "| positive|FINANCING OF ASPOCOMP 'S GROWTH Aspocomp is agg...|\n",
      "| positive|For the last quarter of 2010 , Componenta 's ne...|\n",
      "| positive|In the third quarter of 2010 , net sales increa...|\n",
      "| positive|Operating profit rose to EUR 13.1 mn from EUR 8...|\n",
      "| positive|Operating profit totalled EUR 21.1 mn , up from...|\n",
      "| positive|TeliaSonera TLSN said the offer is in line with...|\n",
      "| positive|STORA ENSO , NORSKE SKOG , M-REAL , UPM-KYMMENE...|\n",
      "| positive|A purchase agreement for 7,200 tons of gasoline...|\n",
      "| positive|Finnish Talentum reports its operating profit i...|\n",
      "| positive|Clothing retail chain Sepp+�l+� 's sales increa...|\n",
      "| positive|Consolidated net sales increased 16 % to reach ...|\n",
      "| positive|Foundries division reports its sales increased ...|\n",
      "| positive|HELSINKI ( AFX ) - Shares closed higher , led b...|\n",
      "| positive|Incap Contract Manufacturing Services Pvt Ltd ,...|\n",
      "| positive|Its board of directors will propose a dividend ...|\n",
      "+---------+--------------------------------------------------+\n",
      "only showing top 20 rows\n",
      "\n"
     ]
    }
   ],
   "source": [
    "trainDataset = (\n",
    "    spark\n",
    "    .read\n",
    "    .option(\"header\", False)\n",
    "    .option(\"delimiter\", \",\")\n",
    "    .option(\"multiLine\", \"true\")\n",
    "    #.schema(custom_schema)\n",
    "    .csv(\"/content/all-data.csv\")\n",
    "    .select(col(\"_c0\").alias(\"sentiment\"), col(\"_c1\").alias(\"text\"))\n",
    "  )\n",
    "\n",
    "trainDataset.show(truncate=50)"
   ]
  },
  {
   "cell_type": "code",
   "execution_count": 23,
   "metadata": {
    "colab": {
     "base_uri": "https://localhost:8080/"
    },
    "id": "VCVC9hIpO6AP",
    "outputId": "d61badf0-06e9-429a-e91e-b440c0f38f69"
   },
   "outputs": [
    {
     "output_type": "execute_result",
     "data": {
      "text/plain": [
       "10688"
      ]
     },
     "metadata": {},
     "execution_count": 23
    }
   ],
   "source": [
    "trainDataset.count()"
   ]
  },
  {
   "cell_type": "code",
   "execution_count": 24,
   "metadata": {
    "id": "tNxA1GyOPyzu"
   },
   "outputs": [],
   "source": [
    "trainDataset, testDataset = trainDataset.randomSplit([0.9, 0.1], seed = 2018)\n"
   ]
  },
  {
   "cell_type": "code",
   "execution_count": 25,
   "metadata": {
    "colab": {
     "base_uri": "https://localhost:8080/"
    },
    "id": "SEaUJ3xzhgLf",
    "outputId": "03483fc3-c3b0-48cb-ad9b-8496f3491f9e"
   },
   "outputs": [
    {
     "output_type": "stream",
     "name": "stdout",
     "text": [
      "+---------+-----+\n",
      "|sentiment|count|\n",
      "+---------+-----+\n",
      "|  neutral| 5445|\n",
      "| positive| 2885|\n",
      "| negative| 1314|\n",
      "+---------+-----+\n",
      "\n"
     ]
    }
   ],
   "source": [
    "from pyspark.sql.functions import col\n",
    "\n",
    "trainDataset.groupBy(\"sentiment\") \\\n",
    "    .count() \\\n",
    "    .orderBy(col(\"count\").desc()) \\\n",
    "    .show()"
   ]
  },
  {
   "cell_type": "code",
   "execution_count": 26,
   "metadata": {
    "colab": {
     "base_uri": "https://localhost:8080/"
    },
    "id": "BL6JC84ISSBI",
    "outputId": "5a21b336-4b8c-4ee0-82ae-47193132b700"
   },
   "outputs": [
    {
     "output_type": "stream",
     "name": "stdout",
     "text": [
      "+---------+-----+\n",
      "|sentiment|count|\n",
      "+---------+-----+\n",
      "|  neutral|  564|\n",
      "| positive|  330|\n",
      "| negative|  150|\n",
      "+---------+-----+\n",
      "\n"
     ]
    }
   ],
   "source": [
    "testDataset.groupBy(\"sentiment\") \\\n",
    "      .count() \\\n",
    "      .orderBy(col(\"count\").desc()) \\\n",
    "      .show()"
   ]
  },
  {
   "cell_type": "code",
   "execution_count": 28,
   "metadata": {
    "colab": {
     "base_uri": "https://localhost:8080/"
    },
    "id": "QHMHKkekYqTB",
    "outputId": "14b574bc-8752-40d8-b6b0-a38d96c4fce8"
   },
   "outputs": [
    {
     "output_type": "stream",
     "name": "stdout",
     "text": [
      "small_bert_L8_512 download started this may take some time.\n",
      "Approximate size to download 149.1 MB\n",
      "[OK!]\n"
     ]
    }
   ],
   "source": [
    "\n",
    "document_assembler = DocumentAssembler() \\\n",
    "    .setInputCol(\"text\") \\\n",
    "    .setOutputCol(\"document\")\n",
    "\n",
    "tokenizer = Tokenizer() \\\n",
    "    .setInputCols([\"document\"]) \\\n",
    "    .setOutputCol(\"token\")\n",
    "\n",
    "bert_embeddings = BertEmbeddings().pretrained(name='small_bert_L8_512', lang='en') \\\n",
    ".setInputCols([\"document\",'token'])\\\n",
    ".setOutputCol(\"embeddings\")\n",
    "\n",
    "embeddingsSentence = SentenceEmbeddings() \\\n",
    "    .setInputCols([\"document\", \"embeddings\"]) \\\n",
    "    .setOutputCol(\"sentence_embeddings\") \\\n",
    "    .setPoolingStrategy(\"AVERAGE\")\n",
    "\n",
    "classsifierdl = ClassifierDLApproach()\\\n",
    "    .setInputCols([\"sentence_embeddings\"])\\\n",
    "    .setOutputCol(\"class\")\\\n",
    "    .setLabelColumn(\"sentiment\")\\\n",
    "    .setMaxEpochs(150)\\\n",
    "    .setLr(0.001)\\\n",
    "    .setBatchSize(8)\\\n",
    "    .setEnableOutputLogs(True)\n",
    "    #.setOutputLogsPath('logs')\n",
    "\n",
    "bert_clf_pipeline = Pipeline(\n",
    "    stages=[\n",
    "        document_assembler,\n",
    "        tokenizer,\n",
    "        bert_embeddings,\n",
    "        embeddingsSentence,\n",
    "        classsifierdl\n",
    "])"
   ]
  },
  {
   "cell_type": "code",
   "execution_count": 29,
   "metadata": {
    "id": "HKb32mhXDrox"
   },
   "outputs": [],
   "source": [
    "! rm -r /root/annotator_logs"
   ]
  },
  {
   "cell_type": "code",
   "execution_count": 30,
   "metadata": {
    "colab": {
     "base_uri": "https://localhost:8080/"
    },
    "id": "g-GPnpKLZlsd",
    "outputId": "a5390aec-65c1-4fd8-d1ab-699e92508679"
   },
   "outputs": [
    {
     "output_type": "stream",
     "name": "stdout",
     "text": [
      "CPU times: user 13.9 s, sys: 1.42 s, total: 15.3 s\n",
      "Wall time: 41min 56s\n"
     ]
    }
   ],
   "source": [
    "%%time\n",
    "bert_clf_pipelineModel = bert_clf_pipeline.fit(trainDataset)"
   ]
  },
  {
   "cell_type": "code",
   "execution_count": 31,
   "metadata": {
    "colab": {
     "base_uri": "https://localhost:8080/"
    },
    "id": "fnD0XmtP1B-t",
    "outputId": "c9fd276b-790c-4d70-a3c2-e121a1f31fe5"
   },
   "outputs": [
    {
     "output_type": "execute_result",
     "data": {
      "text/plain": [
       "['ClassifierDLApproach_6fa0ef078241.log']"
      ]
     },
     "metadata": {},
     "execution_count": 31
    }
   ],
   "source": [
    "log_files = os.listdir(\"/root/annotator_logs\")\n",
    "log_files"
   ]
  },
  {
   "cell_type": "code",
   "execution_count": 32,
   "metadata": {
    "colab": {
     "base_uri": "https://localhost:8080/"
    },
    "id": "WhETsvAjErGL",
    "outputId": "a42829fe-9d4e-4510-cfdc-6a73d0e0ea0d"
   },
   "outputs": [
    {
     "output_type": "stream",
     "name": "stdout",
     "text": [
      "Training started - epochs: 150 - learning_rate: 0.001 - batch_size: 8 - training_examples: 9644 - classes: 3\n",
      "Epoch 0/150 - 10.89s - loss: 1029.6616 - acc: 0.6819502 - batches: 1206\n",
      "Epoch 1/150 - 10.05s - loss: 960.5566 - acc: 0.7457469 - batches: 1206\n",
      "Epoch 2/150 - 9.93s - loss: 924.2237 - acc: 0.7774896 - batches: 1206\n",
      "Epoch 3/150 - 8.78s - loss: 903.5121 - acc: 0.79533195 - batches: 1206\n",
      "Epoch 4/150 - 10.15s - loss: 889.98846 - acc: 0.80643153 - batches: 1206\n",
      "Epoch 5/150 - 9.92s - loss: 879.7088 - acc: 0.81649375 - batches: 1206\n",
      "Epoch 6/150 - 8.91s - loss: 871.216 - acc: 0.8253112 - batches: 1206\n",
      "Epoch 7/150 - 9.91s - loss: 864.2659 - acc: 0.8310166 - batches: 1206\n",
      "Epoch 8/150 - 10.13s - loss: 858.3437 - acc: 0.83599585 - batches: 1206\n",
      "Epoch 9/150 - 10.15s - loss: 853.1787 - acc: 0.8407676 - batches: 1206\n",
      "Epoch 10/150 - 8.70s - loss: 848.5461 - acc: 0.8450208 - batches: 1206\n",
      "Epoch 11/150 - 9.95s - loss: 844.35504 - acc: 0.8477178 - batches: 1206\n",
      "Epoch 12/150 - 9.97s - loss: 840.7591 - acc: 0.85020745 - batches: 1206\n",
      "Epoch 13/150 - 8.91s - loss: 837.57605 - acc: 0.8521784 - batches: 1206\n",
      "Epoch 14/150 - 9.51s - loss: 834.7143 - acc: 0.85352695 - batches: 1206\n",
      "Epoch 15/150 - 9.83s - loss: 832.1136 - acc: 0.85560167 - batches: 1206\n",
      "Epoch 16/150 - 9.91s - loss: 829.68353 - acc: 0.8577801 - batches: 1206\n",
      "Epoch 17/150 - 8.47s - loss: 827.4137 - acc: 0.86037344 - batches: 1206\n",
      "Epoch 18/150 - 9.90s - loss: 825.3992 - acc: 0.8616183 - batches: 1206\n",
      "Epoch 19/150 - 9.87s - loss: 823.62054 - acc: 0.86348546 - batches: 1206\n",
      "Epoch 20/150 - 8.37s - loss: 822.0168 - acc: 0.8650415 - batches: 1206\n",
      "Epoch 21/150 - 9.85s - loss: 820.60016 - acc: 0.86607885 - batches: 1206\n",
      "Epoch 22/150 - 9.74s - loss: 819.3121 - acc: 0.86711615 - batches: 1206\n",
      "Epoch 23/150 - 8.99s - loss: 818.12335 - acc: 0.8681535 - batches: 1206\n",
      "Epoch 24/150 - 9.25s - loss: 817.04626 - acc: 0.8691909 - batches: 1206\n",
      "Epoch 25/150 - 9.89s - loss: 816.02545 - acc: 0.8696058 - batches: 1206\n",
      "Epoch 26/150 - 9.95s - loss: 815.0471 - acc: 0.87002075 - batches: 1206\n",
      "Epoch 27/150 - 8.56s - loss: 814.12067 - acc: 0.8708506 - batches: 1206\n",
      "Epoch 28/150 - 9.94s - loss: 813.22644 - acc: 0.871473 - batches: 1206\n",
      "Epoch 29/150 - 9.96s - loss: 812.33405 - acc: 0.87240666 - batches: 1206\n",
      "Epoch 30/150 - 8.52s - loss: 811.3641 - acc: 0.87282157 - batches: 1206\n",
      "Epoch 31/150 - 9.94s - loss: 810.35657 - acc: 0.87323654 - batches: 1206\n",
      "Epoch 32/150 - 9.88s - loss: 809.50116 - acc: 0.87427384 - batches: 1206\n",
      "Epoch 33/150 - 9.26s - loss: 808.74054 - acc: 0.8744813 - batches: 1206\n",
      "Epoch 34/150 - 9.16s - loss: 807.9453 - acc: 0.8747925 - batches: 1206\n",
      "Epoch 35/150 - 9.86s - loss: 807.0247 - acc: 0.8753112 - batches: 1206\n",
      "Epoch 36/150 - 10.01s - loss: 806.0997 - acc: 0.8758299 - batches: 1206\n",
      "Epoch 37/150 - 8.60s - loss: 805.2848 - acc: 0.87624484 - batches: 1206\n",
      "Epoch 38/150 - 9.96s - loss: 804.5384 - acc: 0.87665975 - batches: 1206\n",
      "Epoch 39/150 - 9.84s - loss: 803.8322 - acc: 0.87686723 - batches: 1206\n",
      "Epoch 40/150 - 9.12s - loss: 803.14276 - acc: 0.87717843 - batches: 1206\n",
      "Epoch 41/150 - 9.24s - loss: 802.44293 - acc: 0.87759334 - batches: 1206\n",
      "Epoch 42/150 - 10.01s - loss: 801.7338 - acc: 0.8779046 - batches: 1206\n",
      "Epoch 43/150 - 9.96s - loss: 801.0035 - acc: 0.8783195 - batches: 1206\n",
      "Epoch 44/150 - 8.55s - loss: 800.409 - acc: 0.8789419 - batches: 1206\n",
      "Epoch 45/150 - 9.86s - loss: 799.9964 - acc: 0.87935686 - batches: 1206\n",
      "Epoch 46/150 - 9.94s - loss: 799.65424 - acc: 0.87956434 - batches: 1206\n",
      "Epoch 47/150 - 9.07s - loss: 799.3589 - acc: 0.88049793 - batches: 1206\n",
      "Epoch 48/150 - 9.72s - loss: 799.0975 - acc: 0.8808091 - batches: 1206\n",
      "Epoch 49/150 - 10.03s - loss: 798.85315 - acc: 0.88091284 - batches: 1206\n",
      "Epoch 50/150 - 9.88s - loss: 798.6043 - acc: 0.88091284 - batches: 1206\n",
      "Epoch 51/150 - 8.67s - loss: 798.3658 - acc: 0.8813278 - batches: 1206\n",
      "Epoch 52/150 - 9.90s - loss: 798.13245 - acc: 0.8818465 - batches: 1206\n",
      "Epoch 53/150 - 10.05s - loss: 797.9074 - acc: 0.8822614 - batches: 1206\n",
      "Epoch 54/150 - 8.88s - loss: 797.695 - acc: 0.8821577 - batches: 1206\n",
      "Epoch 55/150 - 9.90s - loss: 797.48376 - acc: 0.882054 - batches: 1206\n",
      "Epoch 56/150 - 10.04s - loss: 797.27496 - acc: 0.8822614 - batches: 1206\n",
      "Epoch 57/150 - 10.08s - loss: 797.06165 - acc: 0.8822614 - batches: 1206\n",
      "Epoch 58/150 - 8.51s - loss: 796.8376 - acc: 0.8822614 - batches: 1206\n",
      "Epoch 59/150 - 9.93s - loss: 796.6046 - acc: 0.88298756 - batches: 1206\n",
      "Epoch 60/150 - 9.93s - loss: 796.3629 - acc: 0.88319504 - batches: 1206\n",
      "Epoch 61/150 - 8.70s - loss: 796.10736 - acc: 0.88340247 - batches: 1206\n",
      "Epoch 62/150 - 9.59s - loss: 795.8498 - acc: 0.8840249 - batches: 1206\n",
      "Epoch 63/150 - 10.01s - loss: 795.59814 - acc: 0.88423234 - batches: 1206\n",
      "Epoch 64/150 - 9.90s - loss: 795.34344 - acc: 0.8845436 - batches: 1206\n",
      "Epoch 65/150 - 8.44s - loss: 795.101 - acc: 0.8849585 - batches: 1206\n",
      "Epoch 66/150 - 9.99s - loss: 794.8689 - acc: 0.8850622 - batches: 1206\n",
      "Epoch 67/150 - 9.92s - loss: 794.6351 - acc: 0.885166 - batches: 1206\n",
      "Epoch 68/150 - 8.77s - loss: 794.4047 - acc: 0.885166 - batches: 1206\n",
      "Epoch 69/150 - 9.51s - loss: 794.1605 - acc: 0.8855809 - batches: 1206\n",
      "Epoch 70/150 - 9.86s - loss: 793.8967 - acc: 0.8857884 - batches: 1206\n",
      "Epoch 71/150 - 9.41s - loss: 793.625 - acc: 0.8860996 - batches: 1206\n",
      "Epoch 72/150 - 8.99s - loss: 793.37866 - acc: 0.88651454 - batches: 1206\n",
      "Epoch 73/150 - 9.93s - loss: 793.18164 - acc: 0.88682574 - batches: 1206\n",
      "Epoch 74/150 - 9.98s - loss: 793.01483 - acc: 0.88692945 - batches: 1206\n",
      "Epoch 75/150 - 8.52s - loss: 792.8717 - acc: 0.88682574 - batches: 1206\n",
      "Epoch 76/150 - 9.89s - loss: 792.7464 - acc: 0.88713694 - batches: 1206\n",
      "Epoch 77/150 - 9.86s - loss: 792.6288 - acc: 0.8873444 - batches: 1206\n",
      "Epoch 78/150 - 8.82s - loss: 792.51514 - acc: 0.88755184 - batches: 1206\n",
      "Epoch 79/150 - 9.51s - loss: 792.40393 - acc: 0.8876556 - batches: 1206\n",
      "Epoch 80/150 - 9.82s - loss: 792.2966 - acc: 0.8877593 - batches: 1206\n",
      "Epoch 81/150 - 10.05s - loss: 792.1976 - acc: 0.8879668 - batches: 1206\n",
      "Epoch 82/150 - 8.41s - loss: 792.10187 - acc: 0.8883817 - batches: 1206\n",
      "Epoch 83/150 - 10.03s - loss: 792.00775 - acc: 0.8884855 - batches: 1206\n",
      "Epoch 84/150 - 9.93s - loss: 791.91833 - acc: 0.8884855 - batches: 1206\n",
      "Epoch 85/150 - 9.35s - loss: 791.8308 - acc: 0.8885892 - batches: 1206\n",
      "Epoch 86/150 - 9.58s - loss: 791.74457 - acc: 0.888693 - batches: 1206\n",
      "Epoch 87/150 - 9.94s - loss: 791.6655 - acc: 0.888693 - batches: 1206\n",
      "Epoch 88/150 - 9.87s - loss: 791.59 - acc: 0.8887967 - batches: 1206\n",
      "Epoch 89/150 - 8.66s - loss: 791.5164 - acc: 0.8887967 - batches: 1206\n",
      "Epoch 90/150 - 10.14s - loss: 791.45056 - acc: 0.888693 - batches: 1206\n",
      "Epoch 91/150 - 10.20s - loss: 791.3886 - acc: 0.888693 - batches: 1206\n",
      "Epoch 92/150 - 9.34s - loss: 791.3329 - acc: 0.888693 - batches: 1206\n",
      "Epoch 93/150 - 9.75s - loss: 791.28296 - acc: 0.8890042 - batches: 1206\n",
      "Epoch 94/150 - 10.24s - loss: 791.23505 - acc: 0.8890042 - batches: 1206\n",
      "Epoch 95/150 - 10.16s - loss: 791.18677 - acc: 0.8890042 - batches: 1206\n",
      "Epoch 96/150 - 8.90s - loss: 791.134 - acc: 0.8891079 - batches: 1206\n",
      "Epoch 97/150 - 10.19s - loss: 791.0796 - acc: 0.8891079 - batches: 1206\n",
      "Epoch 98/150 - 10.19s - loss: 791.02484 - acc: 0.8891079 - batches: 1206\n",
      "Epoch 99/150 - 10.02s - loss: 790.97095 - acc: 0.8891079 - batches: 1206\n",
      "Epoch 100/150 - 9.03s - loss: 790.91644 - acc: 0.8891079 - batches: 1206\n",
      "Epoch 101/150 - 10.27s - loss: 790.8641 - acc: 0.8891079 - batches: 1206\n",
      "Epoch 102/150 - 10.21s - loss: 790.8113 - acc: 0.8890042 - batches: 1206\n",
      "Epoch 103/150 - 9.27s - loss: 790.76025 - acc: 0.8890042 - batches: 1206\n",
      "Epoch 104/150 - 9.65s - loss: 790.7113 - acc: 0.8891079 - batches: 1206\n",
      "Epoch 105/150 - 10.12s - loss: 790.6649 - acc: 0.8890042 - batches: 1206\n",
      "Epoch 106/150 - 10.10s - loss: 790.6177 - acc: 0.8891079 - batches: 1206\n",
      "Epoch 107/150 - 8.69s - loss: 790.5747 - acc: 0.8891079 - batches: 1206\n",
      "Epoch 108/150 - 10.05s - loss: 790.5318 - acc: 0.8890042 - batches: 1206\n",
      "Epoch 109/150 - 10.10s - loss: 790.489 - acc: 0.8891079 - batches: 1206\n",
      "Epoch 110/150 - 9.60s - loss: 790.4448 - acc: 0.8892116 - batches: 1206\n",
      "Epoch 111/150 - 9.22s - loss: 790.40247 - acc: 0.88931537 - batches: 1206\n",
      "Epoch 112/150 - 10.07s - loss: 790.3646 - acc: 0.88952285 - batches: 1206\n",
      "Epoch 113/150 - 10.23s - loss: 790.3249 - acc: 0.88962656 - batches: 1206\n",
      "Epoch 114/150 - 8.63s - loss: 790.289 - acc: 0.88983405 - batches: 1206\n",
      "Epoch 115/150 - 9.99s - loss: 790.2517 - acc: 0.88993776 - batches: 1206\n",
      "Epoch 116/150 - 9.93s - loss: 790.2151 - acc: 0.88983405 - batches: 1206\n",
      "Epoch 117/150 - 9.70s - loss: 790.17816 - acc: 0.8897303 - batches: 1206\n",
      "Epoch 118/150 - 8.64s - loss: 790.14215 - acc: 0.88983405 - batches: 1206\n",
      "Epoch 119/150 - 9.94s - loss: 790.1116 - acc: 0.88993776 - batches: 1206\n",
      "Epoch 120/150 - 9.86s - loss: 790.079 - acc: 0.88993776 - batches: 1206\n",
      "Epoch 121/150 - 8.53s - loss: 790.0552 - acc: 0.89014524 - batches: 1206\n",
      "Epoch 122/150 - 10.03s - loss: 790.0303 - acc: 0.89045644 - batches: 1206\n",
      "Epoch 123/150 - 10.03s - loss: 790.01025 - acc: 0.8903527 - batches: 1206\n",
      "Epoch 124/150 - 9.15s - loss: 789.99316 - acc: 0.89045644 - batches: 1206\n",
      "Epoch 125/150 - 9.32s - loss: 789.9788 - acc: 0.89045644 - batches: 1206\n",
      "Epoch 126/150 - 9.96s - loss: 789.9655 - acc: 0.89056015 - batches: 1206\n",
      "Epoch 127/150 - 9.98s - loss: 789.95624 - acc: 0.89056015 - batches: 1206\n",
      "Epoch 128/150 - 8.55s - loss: 789.94476 - acc: 0.8906639 - batches: 1206\n",
      "Epoch 129/150 - 9.93s - loss: 789.93585 - acc: 0.8906639 - batches: 1206\n",
      "Epoch 130/150 - 9.92s - loss: 789.9257 - acc: 0.8906639 - batches: 1206\n",
      "Epoch 131/150 - 8.73s - loss: 789.9138 - acc: 0.8906639 - batches: 1206\n",
      "Epoch 132/150 - 10.00s - loss: 789.90015 - acc: 0.89076763 - batches: 1206\n",
      "Epoch 133/150 - 9.82s - loss: 789.8922 - acc: 0.89076763 - batches: 1206\n",
      "Epoch 134/150 - 9.73s - loss: 789.8872 - acc: 0.89076763 - batches: 1206\n",
      "Epoch 135/150 - 8.58s - loss: 789.88354 - acc: 0.89087135 - batches: 1206\n",
      "Epoch 136/150 - 10.04s - loss: 789.88086 - acc: 0.89087135 - batches: 1206\n",
      "Epoch 137/150 - 9.87s - loss: 789.88007 - acc: 0.8909751 - batches: 1206\n",
      "Epoch 138/150 - 8.51s - loss: 789.8786 - acc: 0.8909751 - batches: 1206\n",
      "Epoch 139/150 - 10.03s - loss: 789.8784 - acc: 0.8910788 - batches: 1206\n",
      "Epoch 140/150 - 9.99s - loss: 789.8774 - acc: 0.8910788 - batches: 1206\n",
      "Epoch 141/150 - 9.19s - loss: 789.8774 - acc: 0.8910788 - batches: 1206\n",
      "Epoch 142/150 - 9.45s - loss: 789.8767 - acc: 0.8911826 - batches: 1206\n",
      "Epoch 143/150 - 10.26s - loss: 789.87585 - acc: 0.8912863 - batches: 1206\n",
      "Epoch 144/150 - 10.18s - loss: 789.87476 - acc: 0.89139 - batches: 1206\n",
      "Epoch 145/150 - 8.66s - loss: 789.87305 - acc: 0.89139 - batches: 1206\n",
      "Epoch 146/150 - 10.23s - loss: 789.8707 - acc: 0.89139 - batches: 1206\n",
      "Epoch 147/150 - 10.29s - loss: 789.86865 - acc: 0.89139 - batches: 1206\n",
      "Epoch 148/150 - 10.12s - loss: 789.8662 - acc: 0.89139 - batches: 1206\n",
      "Epoch 149/150 - 8.88s - loss: 789.86176 - acc: 0.89139 - batches: 1206\n",
      "\n"
     ]
    }
   ],
   "source": [
    "log_file_name = os.listdir(\"/root/annotator_logs\")[0]\n",
    "\n",
    "with open(\"/root/annotator_logs/\"+log_file_name, \"r\") as log_file :\n",
    "    print(log_file.read())"
   ]
  },
  {
   "cell_type": "code",
   "execution_count": 33,
   "metadata": {
    "colab": {
     "base_uri": "https://localhost:8080/"
    },
    "id": "iIuBQu25EunM",
    "outputId": "a3ce814e-2309-4eb1-861a-342d1f580c33"
   },
   "outputs": [
    {
     "output_type": "stream",
     "name": "stdout",
     "text": [
      "              precision    recall  f1-score   support\n",
      "\n",
      "    negative       0.55      0.59      0.57       150\n",
      "     neutral       0.86      0.84      0.85       564\n",
      "    positive       0.81      0.82      0.82       330\n",
      "\n",
      "    accuracy                           0.80      1044\n",
      "   macro avg       0.74      0.75      0.75      1044\n",
      "weighted avg       0.80      0.80      0.80      1044\n",
      "\n"
     ]
    }
   ],
   "source": [
    "# We are going to use sklearn to evalute the results on test dataset\n",
    "from sklearn.metrics import classification_report\n",
    "preds = bert_clf_pipelineModel.transform(testDataset)\n",
    "preds_df = preds.select('sentiment','text',\"class.result\").toPandas()\n",
    "preds_df['result'] = preds_df['result'].apply(lambda x : x[0])\n",
    "print (classification_report(preds_df['sentiment'], preds_df['result']))"
   ]
  },
  {
   "cell_type": "markdown",
   "metadata": {
    "id": "B9Fw3Ii3q3fm"
   },
   "source": [
    "# Save model and Zip it for Modelshub Upload/Downloads"
   ]
  },
  {
   "cell_type": "code",
   "source": [
    "!rm -fr /content/sentiment-analysis-model"
   ],
   "metadata": {
    "id": "uV89MTr7HN5o"
   },
   "execution_count": 34,
   "outputs": []
  },
  {
   "cell_type": "code",
   "execution_count": 35,
   "metadata": {
    "id": "lWOZVHfRfYwg"
   },
   "outputs": [],
   "source": [
    "bert_clf_pipelineModel.save('sentiment-analysis-model')\n",
    "!zip -r /content/sentiment-analysis-model.zip /content/sentiment-analysis-model"
   ]
  },
  {
   "cell_type": "code",
   "metadata": {
    "id": "4j_EsH4te3B5",
    "jupyter": {
     "is_executing": true
    }
   },
   "source": [
    "from pyspark.ml import PipelineModel\n",
    "loaded_pipeline_model = PipelineModel.load('models/sentiment-analysis')"
   ],
   "outputs": [],
   "execution_count": null
  },
  {
   "cell_type": "code",
   "execution_count": 37,
   "metadata": {
    "colab": {
     "base_uri": "https://localhost:8080/"
    },
    "id": "bWko77roff19",
    "outputId": "5d46f10c-1f7e-46ae-baa2-c9d2248e49a6"
   },
   "outputs": [
    {
     "output_type": "stream",
     "name": "stdout",
     "text": [
      "              precision    recall  f1-score   support\n",
      "\n",
      "    negative       0.55      0.59      0.57       150\n",
      "     neutral       0.86      0.84      0.85       564\n",
      "    positive       0.81      0.82      0.82       330\n",
      "\n",
      "    accuracy                           0.80      1044\n",
      "   macro avg       0.74      0.75      0.75      1044\n",
      "weighted avg       0.80      0.80      0.80      1044\n",
      "\n"
     ]
    }
   ],
   "source": [
    "preds1 = loaded_pipeline_model.transform(testDataset)\n",
    "preds_df1 = preds1.select('sentiment','text',\"class.result\").toPandas()\n",
    "preds_df1['result'] = preds_df1['result'].apply(lambda x : x[0])\n",
    "print (classification_report(preds_df1['sentiment'], preds_df1['result']))"
   ]
  }
 ],
 "metadata": {
  "accelerator": "GPU",
  "colab": {
   "collapsed_sections": [
    "IOE46aHaCFEp",
    "B9Fw3Ii3q3fm"
   ],
   "gpuType": "T4",
   "machine_shape": "hm",
   "provenance": []
  },
  "kernelspec": {
   "display_name": "Python 3",
   "name": "python3"
  },
  "language_info": {
   "codemirror_mode": {
    "name": "ipython",
    "version": 3
   },
   "file_extension": ".py",
   "mimetype": "text/x-python",
   "name": "python",
   "nbconvert_exporter": "python",
   "pygments_lexer": "ipython3",
   "version": "3.7.4"
  }
 },
 "nbformat": 4,
 "nbformat_minor": 0
}
